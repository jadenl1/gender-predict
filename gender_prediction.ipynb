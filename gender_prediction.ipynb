{
 "cells": [
  {
   "cell_type": "code",
   "execution_count": 2,
   "metadata": {},
   "outputs": [
    {
     "name": "stdout",
     "output_type": "stream",
     "text": [
      "You are probably male.\n"
     ]
    }
   ],
   "source": [
    "import pandas as pd\n",
    "import numpy as np\n",
    "from sklearn import tree\n",
    "\n",
    "#height, weight, shoe size\n",
    "X = [\n",
    "     [181,80,44],\n",
    "     [177,70,43],\n",
    "     [160,60,38],\n",
    "     [154,54,37],\n",
    "     [166,65,40],\n",
    "     [190,90,47],\n",
    "     [175,64,39],\n",
    "     [177,70,40],\n",
    "     [159,55,37],\n",
    "     [171,75,42],\n",
    "     [181,85,43],\n",
    "     [187,72,46]\n",
    "     ]       \n",
    "\n",
    "Y = ['male', \n",
    "     'female',\n",
    "     'female',\n",
    "     'female',\n",
    "     'male',\n",
    "     'male',\n",
    "     'male',\n",
    "     'female',\n",
    "     'male',\n",
    "     'female',\n",
    "     'male',\n",
    "     'male'\n",
    "     ]\n",
    "\n",
    "#\n",
    "clf = tree.DecisionTreeClassifier()\n",
    "\n",
    "clf = clf.fit(X,Y)\n",
    "\n",
    "user_height = input(\"What is your height? (Feet, Inches): \").split(\",\")\n",
    "user_cms = (int(user_height[1]) + (int(user_height[0]) * 12)) * 2.54\n",
    "\n",
    "user_weight = input(\"What is your weight? (Pounds): \")\n",
    "user_kilo = float(user_weight) * 0.453592\n",
    "\n",
    "user_shoe = float(input(\"What is your shoe size? (EU): \"))\n",
    "\n",
    "prediction = clf.predict([[user_cms, user_kilo, user_shoe]])\n",
    "\n",
    "print(f\"You are probably {prediction[0]}.\")\n",
    "\n"
   ]
  }
 ],
 "metadata": {
  "interpreter": {
   "hash": "ba45f9bc4a8b8f5e99f211bec1a92b958e4fbd37f0744aa86bf31d0217064410"
  },
  "kernelspec": {
   "display_name": "Python 3.7.11 64-bit ('myenv': conda)",
   "name": "python3"
  },
  "language_info": {
   "codemirror_mode": {
    "name": "ipython",
    "version": 3
   },
   "file_extension": ".py",
   "mimetype": "text/x-python",
   "name": "python",
   "nbconvert_exporter": "python",
   "pygments_lexer": "ipython3",
   "version": "3.7.11"
  },
  "orig_nbformat": 4
 },
 "nbformat": 4,
 "nbformat_minor": 2
}
